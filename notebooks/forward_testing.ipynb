{
 "cells": [
  {
   "cell_type": "code",
   "execution_count": 2,
   "metadata": {},
   "outputs": [],
   "source": [
    "import os\n",
    "marius_path = \"/Users/mariusmahiout/Documents/repos/INSTK5100_IRL_proj/src\"\n",
    "herman_path = \"\"\n",
    "os.chdir(marius_path)\n",
    "\n",
    "from mdp import GridWorld\n",
    "import dynamic_programming as dp"
   ]
  },
  {
   "cell_type": "code",
   "execution_count": 3,
   "metadata": {},
   "outputs": [],
   "source": [
    "# setting params\n",
    "step_rwd = 0\n",
    "targ_rwd = 1\n",
    "noise = .3\n",
    "gamma = .9\n",
    "rewards = [step_rwd, targ_rwd]\n",
    "size = 5\n",
    "n_states = size ** 2\n",
    "n_actions = 4\n",
    "theta = 10e-6"
   ]
  },
  {
   "cell_type": "code",
   "execution_count": 4,
   "metadata": {},
   "outputs": [],
   "source": [
    "# making env\n",
    "env = GridWorld(targ_rwd=targ_rwd, step_rwd=step_rwd, noise=noise)\n",
    "p = env.get_p()"
   ]
  },
  {
   "cell_type": "code",
   "execution_count": 5,
   "metadata": {},
   "outputs": [
    {
     "name": "stdout",
     "output_type": "stream",
     "text": [
      "+---+---+---+---+---+\n",
      "| → | → | → | → | → |\n",
      "+---+---+---+---+---+\n",
      "| → | → | → | → | ↑ |\n",
      "+---+---+---+---+---+\n",
      "| → | → | → | ↑ | ↑ |\n",
      "+---+---+---+---+---+\n",
      "| ↑ | → | ↑ | ↑ | ↑ |\n",
      "+---+---+---+---+---+\n",
      "| → | → | ↑ | ↑ | ↑ |\n",
      "+---+---+---+---+---+\n"
     ]
    }
   ],
   "source": [
    "# inferring policy and value func\n",
    "V, pi = dp.value_iteration(theta, gamma, rewards, p, n_actions, n_states)\n",
    "dp.print_policy(pi=pi)"
   ]
  },
  {
   "cell_type": "code",
   "execution_count": null,
   "metadata": {},
   "outputs": [],
   "source": [
    "# prnt"
   ]
  }
 ],
 "metadata": {
  "kernelspec": {
   "display_name": "rl_env",
   "language": "python",
   "name": "python3"
  },
  "language_info": {
   "codemirror_mode": {
    "name": "ipython",
    "version": 3
   },
   "file_extension": ".py",
   "mimetype": "text/x-python",
   "name": "python",
   "nbconvert_exporter": "python",
   "pygments_lexer": "ipython3",
   "version": "3.10.9"
  },
  "orig_nbformat": 4,
  "vscode": {
   "interpreter": {
    "hash": "98ebe520649cae22dc0b4364d87d71cff0648b1efdc77f2a7b40b704f50bf1a0"
   }
  }
 },
 "nbformat": 4,
 "nbformat_minor": 2
}
