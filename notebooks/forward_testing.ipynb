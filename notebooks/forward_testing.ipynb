{
 "cells": [
  {
   "cell_type": "code",
   "execution_count": 1,
   "metadata": {},
   "outputs": [
    {
     "name": "stdout",
     "output_type": "stream",
     "text": [
      "pygame 2.3.0 (SDL 2.24.2, Python 3.10.9)\n",
      "Hello from the pygame community. https://www.pygame.org/contribute.html\n"
     ]
    }
   ],
   "source": [
    "import os\n",
    "marius_path = \"/Users/mariusmahiout/Documents/repos/INSTK5100_IRL_proj/src\"\n",
    "herman_path = \"\"\n",
    "os.chdir(marius_path)\n",
    "\n",
    "from mdp import Mdp\n",
    "import dynamic_programming as dp"
   ]
  },
  {
   "cell_type": "code",
   "execution_count": 5,
   "metadata": {},
   "outputs": [],
   "source": [
    "import numpy as np\n",
    "import matplotlib.pyplot as plt"
   ]
  },
  {
   "cell_type": "code",
   "execution_count": 2,
   "metadata": {},
   "outputs": [],
   "source": [
    "# setting params\n",
    "step_rwd = 0\n",
    "targ_rwd = 1\n",
    "noise = .3\n",
    "gamma = .9\n",
    "rewards = [step_rwd, targ_rwd]\n",
    "size = 5\n",
    "n_states = size ** 2\n",
    "n_actions = 4\n",
    "theta = 10e-6"
   ]
  },
  {
   "cell_type": "code",
   "execution_count": 3,
   "metadata": {},
   "outputs": [],
   "source": [
    "# making env\n",
    "env = Mdp(targ_rwd=targ_rwd, step_rwd=step_rwd, noise=noise)\n",
    "p = env.get_p()"
   ]
  },
  {
   "cell_type": "code",
   "execution_count": 77,
   "metadata": {},
   "outputs": [
    {
     "data": {
      "text/plain": [
       "array([1, 1, 1, 1, 1, 1, 1, 1, 1, 2, 1, 1, 1, 2, 2, 2, 1, 2, 2, 2, 1, 1,\n",
       "       2, 2, 2])"
      ]
     },
     "execution_count": 77,
     "metadata": {},
     "output_type": "execute_result"
    }
   ],
   "source": [
    "pi\n",
    "np.argmax(pi, axis=1)"
   ]
  },
  {
   "cell_type": "code",
   "execution_count": 4,
   "metadata": {},
   "outputs": [
    {
     "name": "stdout",
     "output_type": "stream",
     "text": [
      "+---+---+---+---+---+\n",
      "| → | → | → | → | → |\n",
      "+---+---+---+---+---+\n",
      "| → | → | → | → | ↑ |\n",
      "+---+---+---+---+---+\n",
      "| → | → | → | ↑ | ↑ |\n",
      "+---+---+---+---+---+\n",
      "| ↑ | → | ↑ | ↑ | ↑ |\n",
      "+---+---+---+---+---+\n",
      "| → | → | ↑ | ↑ | ↑ |\n",
      "+---+---+---+---+---+\n"
     ]
    }
   ],
   "source": [
    "# inferring policy and value func\n",
    "V, pi = dp.value_iteration(theta, gamma, rewards, p, n_actions, n_states)\n",
    "dp.print_policy(pi=pi)"
   ]
  },
  {
   "cell_type": "code",
   "execution_count": 98,
   "metadata": {},
   "outputs": [
    {
     "data": {
      "text/plain": [
       "0"
      ]
     },
     "execution_count": 98,
     "metadata": {},
     "output_type": "execute_result"
    }
   ],
   "source": [
    "arrow_map = {\n",
    "    0 : (0,-1),\n",
    "    1 : (1,0),\n",
    "    2 : (0, 1),\n",
    "    3 : (-1, 0),\n",
    "}\n",
    "arrow_map[0][0]"
   ]
  },
  {
   "cell_type": "code",
   "execution_count": 100,
   "metadata": {},
   "outputs": [
    {
     "data": {
      "text/plain": [
       "[(0, array([1, 1, 1, 1, 1])),\n",
       " (1, array([1, 1, 1, 1, 2])),\n",
       " (2, array([1, 1, 1, 2, 2])),\n",
       " (3, array([2, 1, 2, 2, 2])),\n",
       " (4, array([1, 1, 2, 2, 2]))]"
      ]
     },
     "execution_count": 100,
     "metadata": {},
     "output_type": "execute_result"
    }
   ],
   "source": [
    "list(enumerate(test))"
   ]
  },
  {
   "cell_type": "code",
   "execution_count": 96,
   "metadata": {},
   "outputs": [
    {
     "data": {
      "image/png": "[encoded data removed]",
      "text/plain": [
       "<Figure size 600x600 with 1 Axes>"
      ]
     },
     "metadata": {},
     "output_type": "display_data"
    }
   ],
   "source": [
    "arrow_map = {\n",
    "    0 : (0,-1),\n",
    "    1 : (1,0),\n",
    "    2 : (0, 1),\n",
    "    3 : (-1, 0),\n",
    "}\n",
    "\n",
    "test = np.argmax(pi, axis=1)#np.random.randint(0,4, n_states)\n",
    "test = np.reshape(test, (5,5))\n",
    "\n",
    "scale=.25\n",
    "fig, ax = plt.subplots(figsize=(6,6))\n",
    "line_positions = np.array([.5, 1.5, 2.5, 3.5])\n",
    "#ax.hlines(line_positions+.5, -1, 6, color=\"black\")\n",
    "#ax.vlines(line_positions, 0, 6, color=\"black\")\n",
    "# ax.set_xlim([-.5, 4.5])\n",
    "# ax.set_ylim([-.5, 4.5])\n",
    "\n",
    "for r, row in enumerate(test):\n",
    "     for c, cell in enumerate(row):\n",
    "        ax.arrow(\n",
    "            r,\n",
    "            5-c,\n",
    "            arrow_map[]\n",
    "\n",
    "        )\n",
    "        # ax.arrow(\n",
    "        #     r+.5*scale*arrow_map[cell][1],\n",
    "        #     5-c+.5*scale*arrow_map[cell][0], \n",
    "        #     scale*arrow_map[cell][0], \n",
    "        #     scale*arrow_map[cell][1], \n",
    "        #     head_width=.1, \n",
    "        #     color=\"black\"\n",
    "        # )\n",
    "# plt.xticks([])\n",
    "# plt.yticks([])\n",
    "plt.show()"
   ]
  },
  {
   "cell_type": "code",
   "execution_count": null,
   "metadata": {},
   "outputs": [],
   "source": []
  },
  {
   "cell_type": "code",
   "execution_count": null,
   "metadata": {},
   "outputs": [],
   "source": []
  },
  {
   "cell_type": "code",
   "execution_count": null,
   "metadata": {},
   "outputs": [],
   "source": []
  }
 ],
 "metadata": {
  "kernelspec": {
   "display_name": "rl_env",
   "language": "python",
   "name": "python3"
  },
  "language_info": {
   "codemirror_mode": {
    "name": "ipython",
    "version": 3
   },
   "file_extension": ".py",
   "mimetype": "text/x-python",
   "name": "python",
   "nbconvert_exporter": "python",
   "pygments_lexer": "ipython3",
   "version": "3.10.9"
  },
  "orig_nbformat": 4,
  "vscode": {
   "interpreter": {
    "hash": "98ebe520649cae22dc0b4364d87d71cff0648b1efdc77f2a7b40b704f50bf1a0"
   }
  }
 },
 "nbformat": 4,
 "nbformat_minor": 2
}
