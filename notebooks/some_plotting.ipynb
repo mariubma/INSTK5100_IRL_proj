{
 "cells": [
  {
   "cell_type": "code",
   "execution_count": 2,
   "metadata": {},
   "outputs": [],
   "source": [
    "import numpy as np\n",
    "import seaborn as sns\n",
    "\n",
    "import os\n",
    "marius_path = \"/Users/mariusmahiout/Documents/repos/INSTK5100_IRL_proj/src\"\n",
    "herman_path = \"\"\n",
    "os.chdir(marius_path)\n",
    "\n",
    "from mdp import Mdp\n",
    "import dynamic_programming as dp\n",
    "import linear_programming as lp"
   ]
  },
  {
   "cell_type": "code",
   "execution_count": 3,
   "metadata": {},
   "outputs": [
    {
     "name": "stdout",
     "output_type": "stream",
     "text": [
      "+---+---+---+---+---+\n",
      "| → | → | → | → | → |\n",
      "+---+---+---+---+---+\n",
      "| → | → | → | → | ↑ |\n",
      "+---+---+---+---+---+\n",
      "| → | → | → | ↑ | ↑ |\n",
      "+---+---+---+---+---+\n",
      "| ↑ | → | ↑ | ↑ | ↑ |\n",
      "+---+---+---+---+---+\n",
      "| → | → | ↑ | ↑ | ↑ |\n",
      "+---+---+---+---+---+\n"
     ]
    }
   ],
   "source": [
    "# setting params\n",
    "step_rwd = 0\n",
    "targ_rwd = 1\n",
    "noise = .3\n",
    "gamma = .9\n",
    "rewards = [step_rwd, targ_rwd]\n",
    "size = 5\n",
    "n_states = size ** 2\n",
    "n_actions = 4\n",
    "theta = 10e-6\n",
    "\n",
    "# making env\n",
    "env = Mdp(targ_rwd=targ_rwd, step_rwd=step_rwd, noise=noise)\n",
    "p = env.get_p()\n",
    "\n",
    "# inferring policy and value func\n",
    "V, pi = dp.value_iteration(theta, gamma, rewards, p, n_actions, n_states)\n",
    "dp.print_policy(pi=pi)"
   ]
  },
  {
   "cell_type": "code",
   "execution_count": 6,
   "metadata": {},
   "outputs": [],
   "source": [
    "import matplotlib.pyplot as plt"
   ]
  },
  {
   "cell_type": "code",
   "execution_count": 13,
   "metadata": {},
   "outputs": [
    {
     "data": {
      "text/plain": [
       "[<matplotlib.lines.Line2D at 0x7fbbd9b0af80>]"
      ]
     },
     "execution_count": 13,
     "metadata": {},
     "output_type": "execute_result"
    },
    {
     "data": {
      "image/png": "[encoded data removed]",
      "text/plain": [
       "<Figure size 640x480 with 1 Axes>"
      ]
     },
     "metadata": {},
     "output_type": "display_data"
    }
   ],
   "source": [
    "# constructing true reward function\n",
    "size = int(np.sqrt(n_states))\n",
    "r_true = np.zeros(n_states)\n",
    "r_true[4] = 1\n",
    "r_true = np.reshape(r_true, (size, size))\n",
    "\n",
    "# success measure RMS\n",
    "def calc_rms(a, b):\n",
    "    diffs = a - b\n",
    "    diffs_sq = (a-b)**2\n",
    "    sum_diffs_sq = sum(diffs_sq.flatten())\n",
    "    rms = np.sqrt(sum_diffs_sq)\n",
    "    return rms\n",
    "\n",
    "# getting reward estimates\n",
    "num_samples = 10\n",
    "lambdas = np.linspace(0, 1, num_samples)\n",
    "#r_est_list = []\n",
    "rms_list = []\n",
    "for l in lambdas:\n",
    "    r_est = lp.infer_reward(\n",
    "        transition_probs=p,\n",
    "        policy=pi,\n",
    "        gamma=gamma,\n",
    "        _lambda=l,\n",
    "    )\n",
    "    rms = calc_rms(r_true, r_est)\n",
    "    rms_list.append(rms)\n",
    "\n",
    "# calculating rms\n",
    "\n",
    "\n",
    "# plotting rms vs lambda\n",
    "\n",
    "plt.plot(lambdas, rms_list)\n"
   ]
  },
  {
   "cell_type": "code",
   "execution_count": null,
   "metadata": {},
   "outputs": [],
   "source": []
  }
 ],
 "metadata": {
  "kernelspec": {
   "display_name": "rl_env",
   "language": "python",
   "name": "python3"
  },
  "language_info": {
   "codemirror_mode": {
    "name": "ipython",
    "version": 3
   },
   "file_extension": ".py",
   "mimetype": "text/x-python",
   "name": "python",
   "nbconvert_exporter": "python",
   "pygments_lexer": "ipython3",
   "version": "3.10.9"
  },
  "orig_nbformat": 4,
  "vscode": {
   "interpreter": {
    "hash": "98ebe520649cae22dc0b4364d87d71cff0648b1efdc77f2a7b40b704f50bf1a0"
   }
  }
 },
 "nbformat": 4,
 "nbformat_minor": 2
}
