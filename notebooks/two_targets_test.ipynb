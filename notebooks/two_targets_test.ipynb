{
 "cells": [
  {
   "cell_type": "code",
   "execution_count": 1,
   "metadata": {},
   "outputs": [],
   "source": [
    "import numpy as np\n",
    "import seaborn as sns\n",
    "\n",
    "import sys\n",
    "sys.path.append('../src')\n",
    "\n",
    "from mdp import Mdp\n",
    "import dynamic_programming as dp\n",
    "import linear_programming as lp"
   ]
  },
  {
   "cell_type": "code",
   "execution_count": 2,
   "metadata": {},
   "outputs": [
    {
     "name": "stdout",
     "output_type": "stream",
     "text": [
      "+---+---+---+---+---+\n",
      "| ↑ | ← | ← | ← | ← |\n",
      "+---+---+---+---+---+\n",
      "| ↑ | ↑ | ← | ← | ↓ |\n",
      "+---+---+---+---+---+\n",
      "| ↑ | ↑ | ↑ | ↓ | ↓ |\n",
      "+---+---+---+---+---+\n",
      "| ↑ | ↑ | → | ↓ | ↓ |\n",
      "+---+---+---+---+---+\n",
      "| ↑ | → | → | → | ↓ |\n",
      "+---+---+---+---+---+\n"
     ]
    }
   ],
   "source": [
    "# setting params\n",
    "step_rwd = 0\n",
    "targ_rwd = 1\n",
    "noise = .3\n",
    "gamma = .9\n",
    "rewards = [step_rwd, targ_rwd]\n",
    "size = 5\n",
    "n_states = size ** 2\n",
    "n_actions = 4\n",
    "theta = 10e-6\n",
    "\n",
    "# making env\n",
    "env = Mdp(targ_rwd=targ_rwd, targ_loc = (0,0), sec_targ_loc = (4,4), step_rwd=step_rwd, noise=noise)\n",
    "p = env.get_p()\n",
    "\n",
    "# inferring policy and value func\n",
    "V, pi = dp.value_iteration(theta, gamma, rewards, p, n_actions, n_states)\n",
    "dp.print_policy(pi=pi)"
   ]
  },
  {
   "cell_type": "code",
   "execution_count": null,
   "metadata": {},
   "outputs": [],
   "source": [
    "henv.close()"
   ]
  },
  {
   "cell_type": "code",
   "execution_count": 3,
   "metadata": {},
   "outputs": [],
   "source": [
    "henv = Mdp(render_mode=\"human\", targ_rwd=targ_rwd, targ_loc = (0,0), sec_targ_loc = (4,4), step_rwd=step_rwd, noise=noise)\n",
    "henv.reset()\n",
    "henv.render()"
   ]
  },
  {
   "cell_type": "code",
   "execution_count": null,
   "metadata": {},
   "outputs": [],
   "source": [
    "r_est = lp.infer_reward(transition_probs=p, policy=pi, gamma=gamma, _lambda=0)\n",
    "sns.heatmap(r_est, annot=True, cmap=\"cividis\")"
   ]
  },
  {
   "cell_type": "code",
   "execution_count": null,
   "metadata": {},
   "outputs": [],
   "source": [
    "r_est = lp.infer_reward(transition_probs=p, policy=pi, gamma=gamma, _lambda=1.05)\n",
    "sns.heatmap(r_est, annot=True, cmap=\"cividis\")"
   ]
  },
  {
   "cell_type": "code",
   "execution_count": null,
   "metadata": {},
   "outputs": [],
   "source": [
    "r_est = lp.infer_reward(transition_probs=p, policy=pi, gamma=gamma, _lambda=10.0)\n",
    "sns.heatmap(r_est, annot=True, cmap=\"cividis\")"
   ]
  },
  {
   "cell_type": "code",
   "execution_count": null,
   "metadata": {},
   "outputs": [],
   "source": []
  }
 ],
 "metadata": {
  "kernelspec": {
   "display_name": "rl_env",
   "language": "python",
   "name": "python3"
  },
  "language_info": {
   "codemirror_mode": {
    "name": "ipython",
    "version": 3
   },
   "file_extension": ".py",
   "mimetype": "text/x-python",
   "name": "python",
   "nbconvert_exporter": "python",
   "pygments_lexer": "ipython3",
   "version": "3.11.2"
  },
  "orig_nbformat": 4,
  "vscode": {
   "interpreter": {
    "hash": "98ebe520649cae22dc0b4364d87d71cff0648b1efdc77f2a7b40b704f50bf1a0"
   }
  }
 },
 "nbformat": 4,
 "nbformat_minor": 2
}
