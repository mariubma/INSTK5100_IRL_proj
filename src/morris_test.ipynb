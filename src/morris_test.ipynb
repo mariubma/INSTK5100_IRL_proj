{
 "cells": [
  {
   "cell_type": "code",
   "execution_count": 12,
   "metadata": {},
   "outputs": [],
   "source": [
    "import dynamic_programming as dp\n",
    "import Mdp as Gw"
   ]
  },
  {
   "cell_type": "code",
   "execution_count": 13,
   "metadata": {},
   "outputs": [],
   "source": [
    "import numpy as np\n",
    "from scipy.optimize import linprog\n",
    "import pandas as pd\n",
    "import matplotlib.pyplot as plt\n",
    "import numpy as np\n",
    "import seaborn as sns"
   ]
  },
  {
   "cell_type": "code",
   "execution_count": 14,
   "metadata": {},
   "outputs": [],
   "source": [
    "step_rwd = 0\n",
    "targ_rwd = 1\n",
    "noise = 0.3\n",
    "\n",
    "gamma = 0.9\n",
    "rewards = [step_rwd, targ_rwd]\n",
    "n_states = 5**2\n",
    "n_actions = 4\n",
    "theta = 10e-6\n",
    "\n",
    "env = Gw.Mpd(render_mode=\"human\", targ_rwd=targ_rwd, step_rwd=step_rwd, noise=noise)\n",
    "p = env.get_p()\n",
    "\n",
    "V, pi = dp.value_iteration(theta, gamma, rewards, p, n_actions, n_states)"
   ]
  },
  {
   "cell_type": "code",
   "execution_count": 12,
   "metadata": {},
   "outputs": [],
   "source": [
    "env.close()"
   ]
  },
  {
   "cell_type": "code",
   "execution_count": 11,
   "metadata": {},
   "outputs": [],
   "source": [
    "env = Gw.Mpd(render_mode=\"human\")\n",
    "\n",
    "# render the agent following the optimal policy found by value iteration\n",
    "start_location_tuple = env.reset()  # Get the agent's starting location in (row, col) format\n",
    "current_state = start_location_tuple[0] * env.size + start_location_tuple[1]  # Convert (row, col) to a single integer representing the state index\n",
    "env.render()"
   ]
  },
  {
   "cell_type": "code",
   "execution_count": 17,
   "metadata": {},
   "outputs": [
    {
     "name": "stdout",
     "output_type": "stream",
     "text": [
      "Episode finished after 8 timesteps\n"
     ]
    }
   ],
   "source": [
    "env = Gw.Mpd(render_mode=\"human\")\n",
    "\n",
    "# render the agent following the optimal policy found by value iteration\n",
    "start_location_tuple = env.reset()  # Get the agent's starting location in (row, col) format\n",
    "current_state = start_location_tuple[0] * env.size + start_location_tuple[1]  # Convert (row, col) to a single integer representing the state index\n",
    "env.render()\n",
    "for i in range(100):\n",
    "    # for loop for safety\n",
    "    action = np.argmax(pi[current_state])\n",
    "    state, reward, done, info, _ = env.step(action)\n",
    "    env.render()\n",
    "    if done:\n",
    "        print(\"Episode finished after {} timesteps\".format(i + 1))\n",
    "        break\n",
    "    current_state = state[0] * env.size + state[1]\n",
    "env.close()\n"
   ]
  },
  {
   "cell_type": "code",
   "execution_count": null,
   "metadata": {},
   "outputs": [],
   "source": []
  }
 ],
 "metadata": {
  "kernelspec": {
   "display_name": "rl_env",
   "language": "python",
   "name": "python3"
  },
  "language_info": {
   "codemirror_mode": {
    "name": "ipython",
    "version": 3
   },
   "file_extension": ".py",
   "mimetype": "text/x-python",
   "name": "python",
   "nbconvert_exporter": "python",
   "pygments_lexer": "ipython3",
   "version": "3.11.2"
  },
  "orig_nbformat": 4,
  "vscode": {
   "interpreter": {
    "hash": "98ebe520649cae22dc0b4364d87d71cff0648b1efdc77f2a7b40b704f50bf1a0"
   }
  }
 },
 "nbformat": 4,
 "nbformat_minor": 2
}
